{
 "cells": [
  {
   "cell_type": "code",
   "execution_count": 3,
   "metadata": {
    "collapsed": true
   },
   "outputs": [],
   "source": [
    "import numpy as np"
   ]
  },
  {
   "cell_type": "code",
   "execution_count": 4,
   "metadata": {
    "collapsed": true
   },
   "outputs": [],
   "source": [
    "ypred = np.random.normal(0, 1, 100)\n",
    "ypred[1:10] = 2.54\n",
    "ypred[11:20] = -2.54\n",
    "ytrue = np.zeros(100, dtype=int)\n",
    "ytrue[np.random.choice(np.arange(100), 50, replace=False)] = 1"
   ]
  },
  {
   "cell_type": "code",
   "execution_count": 10,
   "metadata": {},
   "outputs": [],
   "source": [
    "nitems = ypred.shape[0]\n",
    "isort = np.argsort(ypred)[::-1]\n",
    "pos = np.sum(ytrue)\n",
    "neg = nitems - pos"
   ]
  },
  {
   "cell_type": "code",
   "execution_count": 38,
   "metadata": {
    "collapsed": true
   },
   "outputs": [],
   "source": [
    "fp = 0\n",
    "tp = 0\n",
    "    \n",
    "fplist = list()\n",
    "tplist = list()\n",
    "nlist  = list()\n",
    "alpha = np.max(ypred) + 1.0\n",
    "\n",
    "for j in range(nitems):\n",
    "    if not ypred[isort[j]] == alpha:\n",
    "        fplist.append(fp)\n",
    "        tplist.append(tp)\n",
    "        nlist.append(fp + tp)\n",
    "        alpha = ypred[isort[j]]\n",
    "    if ytrue[isort[j]] == 1:\n",
    "        tp += 1\n",
    "    else:\n",
    "        fp += 1\n",
    "fplist.append(fp)\n",
    "tplist.append(tp)\n",
    "nlist.append(fp + tp)"
   ]
  },
  {
   "cell_type": "code",
   "execution_count": 39,
   "metadata": {},
   "outputs": [
    {
     "data": {
      "text/plain": [
       "array([ 0,  1,  6,  7,  7,  7,  7,  8,  9,  9, 10, 10, 11, 11, 11, 12, 13,\n",
       "       14, 14, 14, 14, 15, 15, 15, 16, 16, 17, 18, 18, 19, 19, 19, 19, 20,\n",
       "       21, 22, 23, 24, 25, 26, 26, 26, 26, 26, 27, 28, 29, 30, 31, 31, 31,\n",
       "       32, 32, 33, 34, 34, 35, 36, 36, 36, 36, 36, 37, 37, 38, 38, 39, 40,\n",
       "       41, 42, 42, 43, 43, 44, 44, 45, 45, 45, 45, 46, 46, 46, 47, 47, 50])"
      ]
     },
     "execution_count": 39,
     "metadata": {},
     "output_type": "execute_result"
    }
   ],
   "source": [
    "np.array(tplist)"
   ]
  },
  {
   "cell_type": "code",
   "execution_count": 40,
   "metadata": {},
   "outputs": [
    {
     "data": {
      "text/plain": [
       "array([ 0,  0,  4,  4,  5,  6,  7,  7,  7,  8,  8,  9,  9, 10, 11, 11, 11,\n",
       "       11, 12, 13, 14, 14, 15, 16, 16, 17, 17, 17, 18, 18, 19, 20, 21, 21,\n",
       "       21, 21, 21, 21, 21, 21, 22, 23, 24, 25, 25, 25, 25, 25, 25, 26, 27,\n",
       "       27, 28, 28, 28, 29, 29, 29, 30, 31, 32, 33, 33, 34, 34, 35, 35, 35,\n",
       "       35, 35, 36, 36, 37, 37, 38, 38, 39, 40, 41, 41, 42, 43, 43, 44, 50])"
      ]
     },
     "execution_count": 40,
     "metadata": {},
     "output_type": "execute_result"
    }
   ],
   "source": [
    "np.array(fplist)"
   ]
  },
  {
   "cell_type": "code",
   "execution_count": 41,
   "metadata": {},
   "outputs": [
    {
     "data": {
      "text/plain": [
       "array([  0,   1,  10,  11,  12,  13,  14,  15,  16,  17,  18,  19,  20,\n",
       "        21,  22,  23,  24,  25,  26,  27,  28,  29,  30,  31,  32,  33,\n",
       "        34,  35,  36,  37,  38,  39,  40,  41,  42,  43,  44,  45,  46,\n",
       "        47,  48,  49,  50,  51,  52,  53,  54,  55,  56,  57,  58,  59,\n",
       "        60,  61,  62,  63,  64,  65,  66,  67,  68,  69,  70,  71,  72,\n",
       "        73,  74,  75,  76,  77,  78,  79,  80,  81,  82,  83,  84,  85,\n",
       "        86,  87,  88,  89,  90,  91, 100])"
      ]
     },
     "execution_count": 41,
     "metadata": {},
     "output_type": "execute_result"
    }
   ],
   "source": [
    "np.array(nlist)"
   ]
  },
  {
   "cell_type": "code",
   "execution_count": 42,
   "metadata": {},
   "outputs": [
    {
     "data": {
      "text/plain": [
       "array([ True,  True,  True,  True,  True,  True,  True,  True,  True,\n",
       "        True,  True,  True,  True,  True,  True,  True,  True,  True,\n",
       "        True,  True,  True,  True,  True,  True,  True,  True,  True,\n",
       "        True,  True,  True,  True,  True,  True,  True,  True,  True,\n",
       "        True,  True,  True,  True,  True,  True,  True,  True,  True,\n",
       "        True,  True,  True,  True,  True,  True,  True,  True,  True,\n",
       "        True,  True,  True,  True,  True,  True,  True,  True,  True,\n",
       "        True,  True,  True,  True,  True,  True,  True,  True,  True,\n",
       "        True,  True,  True,  True,  True,  True,  True,  True,  True,\n",
       "        True,  True,  True,  True], dtype=bool)"
      ]
     },
     "execution_count": 42,
     "metadata": {},
     "output_type": "execute_result"
    }
   ],
   "source": [
    "np.array(tplist) + np.array(fplist) ==  np.array(nlist)"
   ]
  },
  {
   "cell_type": "code",
   "execution_count": null,
   "metadata": {},
   "outputs": [],
   "source": [
    "isort = np.argsort(ypred)[::-1]\n",
    "pos = np.sum(ytrue)\n",
    "neg = nitems - pos\n",
    "    \n",
    "fp = list()\n",
    "tp = list()\n",
    "alpha = np.max(ypred) + 1.0\n",
    "\n",
    "fpr = list()        # False positive rate\n",
    "tpr = list()        # True positive rate\n",
    "precision = list()\n",
    "recall = list()\n",
    "nsel = list()"
   ]
  },
  {
   "cell_type": "code",
   "execution_count": null,
   "metadata": {},
   "outputs": [],
   "source": [
    "nitems = ypred.shape[0]\n",
    "for j in range(nitems):\n",
    "    if not ypred[isort[j]] == alpha:\n",
    "        print (\"At {:d}, TP: {:d}, FP: {:d}\".format(j, tp, fp))\n",
    "        fpr.append(fp / neg)\n",
    "        tpr.append(tp / pos)\n",
    "        if (tp + fp) == 0: \n",
    "            precision.append(1.0)\n",
    "            recall.append(0.0)\n",
    "        else:\n",
    "            precision.append(tp / (tp + fp))\n",
    "            recall.append(tp / pos)\n",
    "        nsel.append(j)\n",
    "        alpha = ypred[isort[j]]\n",
    "\n",
    "    if ytrue[isort[j]] == 1:\n",
    "        print(\"TP\")\n",
    "        tp += 1\n",
    "    else:\n",
    "        print(\"FP\")\n",
    "        fp += 1 "
   ]
  },
  {
   "cell_type": "code",
   "execution_count": null,
   "metadata": {},
   "outputs": [],
   "source": [
    "tp"
   ]
  },
  {
   "cell_type": "code",
   "execution_count": null,
   "metadata": {},
   "outputs": [],
   "source": [
    "len(precision)"
   ]
  },
  {
   "cell_type": "code",
   "execution_count": null,
   "metadata": {},
   "outputs": [],
   "source": [
    "fp / neg"
   ]
  },
  {
   "cell_type": "code",
   "execution_count": null,
   "metadata": {},
   "outputs": [],
   "source": [
    "neg"
   ]
  },
  {
   "cell_type": "code",
   "execution_count": null,
   "metadata": {
    "collapsed": true
   },
   "outputs": [],
   "source": []
  }
 ],
 "metadata": {
  "kernelspec": {
   "display_name": "Python 3",
   "language": "python",
   "name": "python3"
  },
  "language_info": {
   "codemirror_mode": {
    "name": "ipython",
    "version": 3
   },
   "file_extension": ".py",
   "mimetype": "text/x-python",
   "name": "python",
   "nbconvert_exporter": "python",
   "pygments_lexer": "ipython3",
   "version": "3.5.4"
  }
 },
 "nbformat": 4,
 "nbformat_minor": 2
}
