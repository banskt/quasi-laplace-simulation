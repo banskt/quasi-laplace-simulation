{
 "cells": [
  {
   "cell_type": "code",
   "execution_count": 1,
   "metadata": {
    "collapsed": true
   },
   "outputs": [],
   "source": [
    "import numpy as np\n",
    "import collections\n",
    "import os\n",
    "\n",
    "INFO_FIELDS = ['stat', 'causality']\n",
    "class LocusResult(collections.namedtuple('_LocusResult', INFO_FIELDS)):\n",
    "    __slots__ = ()"
   ]
  },
  {
   "cell_type": "code",
   "execution_count": 45,
   "metadata": {
    "collapsed": true
   },
   "outputs": [],
   "source": [
    "startsim = 701\n",
    "endsim = 750\n",
    "zmax = 3\n",
    "muvar = '0'\n",
    "nbin = 10\n",
    "\n",
    "basedir = '/scratch/sbanerj/quasi_laplace_gwas'\n",
    "blore_path = 'blore_cvar/meta_without_feature/zmax{:d}_mu{:s}_pi0.01_sig0.01/blore_meta_res/{:s}.res'\n",
    "calib_outfile = 'calibration_pip_z{:d}.pdf'.format(zmax)\n",
    "\n",
    "simrange = range(startsim, endsim + 1)"
   ]
  },
  {
   "cell_type": "code",
   "execution_count": 46,
   "metadata": {
    "collapsed": true
   },
   "outputs": [],
   "source": [
    "locusfile = os.path.join(basedir, 'LOCUSNAMES.50NLOCI')\n",
    "with open(locusfile, 'r') as mfile:\n",
    "    locusprefixes = mfile.readlines()\n",
    "locusprefixes = [x.strip() for x in locusprefixes]"
   ]
  },
  {
   "cell_type": "code",
   "execution_count": 47,
   "metadata": {
    "collapsed": true
   },
   "outputs": [],
   "source": [
    "def read_causal_rsids(causal_snps_file):\n",
    "    causal_rsid = dict()\n",
    "    with open(causal_snps_file, 'r') as mfile:\n",
    "        rsidlist = list()\n",
    "        locus_name = ''\n",
    "        for line in mfile:\n",
    "            if line.startswith('#'):\n",
    "                causal_rsid[locus_name] = rsidlist\n",
    "            else:\n",
    "                mline =  line.split()\n",
    "                if mline[0].startswith('Causality'):\n",
    "                    locus_name = mline[1]\n",
    "                    rsidlist = list()\n",
    "                else:\n",
    "                    rsidlist.append(mline[0])\n",
    "        causal_rsid[locus_name] = rsidlist\n",
    "    return causal_rsid\n",
    "\n",
    "def read_blore(simdir, filepath, locusprefixes, causal_rsids, zmax, muvar):\n",
    "    thisres = list()\n",
    "    for locus in locusprefixes:\n",
    "        locusres = list()\n",
    "        outfile = os.path.join(simdir, filepath.format(zmax, muvar, locus))\n",
    "        causals = causal_rsids[locus]\n",
    "        with open(outfile, 'r') as mfile:\n",
    "            next(mfile)\n",
    "            for mline in mfile:\n",
    "                mline_split = mline.split()\n",
    "                rsid = mline_split[0]\n",
    "                prob = float(mline_split[4])\n",
    "                causality = 1 if rsid in causals else 0\n",
    "                mres = LocusResult(stat = prob,\n",
    "                                   causality = causality)\n",
    "                locusres.append(mres)\n",
    "        thisres.append(locusres)\n",
    "    return thisres"
   ]
  },
  {
   "cell_type": "code",
   "execution_count": 48,
   "metadata": {},
   "outputs": [
    {
     "name": "stdout",
     "output_type": "stream",
     "text": [
      "Reading sim701\n",
      "Reading sim702\n",
      "Reading sim703\n",
      "Reading sim704\n",
      "Reading sim705\n",
      "Reading sim706\n",
      "Reading sim707\n",
      "Reading sim708\n",
      "Reading sim709\n",
      "Reading sim710\n",
      "Reading sim711\n",
      "Reading sim712\n",
      "Reading sim713\n",
      "Reading sim714\n",
      "Reading sim715\n",
      "Reading sim716\n",
      "Reading sim717\n",
      "Reading sim718\n",
      "Reading sim719\n",
      "Reading sim720\n",
      "Reading sim721\n",
      "Reading sim722\n",
      "Reading sim723\n",
      "Reading sim724\n",
      "Reading sim725\n",
      "Reading sim726\n",
      "Reading sim727\n",
      "Reading sim728\n",
      "Reading sim729\n",
      "Reading sim730\n",
      "Reading sim731\n",
      "Reading sim732\n",
      "Reading sim733\n",
      "Reading sim734\n",
      "Reading sim735\n",
      "Reading sim736\n",
      "Reading sim737\n",
      "Reading sim738\n",
      "Reading sim739\n",
      "Reading sim740\n",
      "Reading sim741\n",
      "Reading sim742\n",
      "Reading sim743\n",
      "Reading sim744\n",
      "Reading sim745\n",
      "Reading sim746\n",
      "Reading sim747\n",
      "Reading sim748\n",
      "Reading sim749\n",
      "Reading sim750\n"
     ]
    }
   ],
   "source": [
    "blore = list()\n",
    "\n",
    "for sim in range(startsim, endsim + 1):\n",
    "    simname = 'sim{:03d}'.format(sim)\n",
    "    print ('Reading {:s}'.format(simname))\n",
    "    simdir = os.path.join( basedir, 'simulations', simname)\n",
    "    causal_snps_file = os.path.join(simdir, 'samples', 'causal.snplist')\n",
    "    causal_rsids = read_causal_rsids(causal_snps_file)\n",
    "    thisres = read_blore(simdir, blore_path, locusprefixes, causal_rsids, zmax, '0')\n",
    "    blore.append(thisres)\n",
    "    \n",
    "blore = [x for y in blore for x in y]\n",
    "blore = [x for y in blore for x in y]"
   ]
  },
  {
   "cell_type": "code",
   "execution_count": 49,
   "metadata": {},
   "outputs": [],
   "source": [
    "bins = np.linspace(0, 1, nbin + 1)[:-1]\n",
    "whichbin = [np.where(x.stat > bins)[0][-1] if x.stat > 0 else 0 for x in blore]"
   ]
  },
  {
   "cell_type": "code",
   "execution_count": 50,
   "metadata": {},
   "outputs": [
    {
     "name": "stdout",
     "output_type": "stream",
     "text": [
      "0 450896\n",
      "1 5646\n",
      "2 1309\n",
      "3 549\n",
      "4 282\n",
      "5 151\n",
      "6 64\n",
      "7 54\n",
      "8 46\n",
      "9 253\n"
     ]
    }
   ],
   "source": [
    "for i, thisbin in enumerate(bins):\n",
    "    n = len([x for x in whichbin if x == i])\n",
    "    print (i, n)"
   ]
  },
  {
   "cell_type": "code",
   "execution_count": 51,
   "metadata": {
    "collapsed": true
   },
   "outputs": [],
   "source": [
    "tpr = list()\n",
    "err = list()\n",
    "for i, thisbin in enumerate(bins):\n",
    "    res = [x for b, x in enumerate(blore) if whichbin[b] == i]\n",
    "    tp = [x for x in res if x.causality == 1]\n",
    "    n = len(res)\n",
    "    p = len(tp) / n\n",
    "    se = np.sqrt(p * (1 - p) / n)\n",
    "    tpr.append(p)\n",
    "    err.append(2 * se)"
   ]
  },
  {
   "cell_type": "code",
   "execution_count": 52,
   "metadata": {},
   "outputs": [
    {
     "data": {
      "text/plain": [
       "[0.011710017387601575,\n",
       " 0.1473609635139922,\n",
       " 0.25133689839572193,\n",
       " 0.35154826958105645,\n",
       " 0.425531914893617,\n",
       " 0.5827814569536424,\n",
       " 0.6875,\n",
       " 0.7592592592592593,\n",
       " 0.782608695652174,\n",
       " 0.9367588932806324]"
      ]
     },
     "execution_count": 52,
     "metadata": {},
     "output_type": "execute_result"
    }
   ],
   "source": [
    "tpr"
   ]
  },
  {
   "cell_type": "code",
   "execution_count": 53,
   "metadata": {},
   "outputs": [
    {
     "data": {
      "image/png": "[encoded data removed]",
      "text/plain": [
       "<matplotlib.figure.Figure at 0x2aaae12072e8>"
      ]
     },
     "metadata": {},
     "output_type": "display_data"
    }
   ],
   "source": [
    "import matplotlib.pyplot as plt\n",
    "\n",
    "fig = plt.figure(figsize = (10, 10))\n",
    "ax1 = fig.add_subplot(111)\n",
    "\n",
    "prob = bins + (1 / nbin / 2)  \n",
    "ax1.errorbar(prob, tpr, yerr = err, fmt='o')\n",
    "ax1.plot([0, 1], [0, 1])\n",
    "#ax1.set_ylim(0, 1.02)\n",
    "plt.show()"
   ]
  },
  {
   "cell_type": "code",
   "execution_count": 54,
   "metadata": {},
   "outputs": [
    {
     "data": {
      "image/png": "[encoded data removed]",
      "text/plain": [
       "<matplotlib.figure.Figure at 0x2aaae11b9cf8>"
      ]
     },
     "metadata": {},
     "output_type": "display_data"
    }
   ],
   "source": [
    "import matplotlib.pyplot as plt\n",
    "\n",
    "kelly_colors_hex = [\n",
    "    '#FFB300', # Vivid Yellow\n",
    "    '#803E75', # Strong Purple\n",
    "    '#FF6800', # Vivid Orange\n",
    "    '#A6BDD7', # Very Light Blue\n",
    "    '#C10020', # Vivid Red\n",
    "    '#CEA262', # Grayish Yellow\n",
    "    '#817066', # Medium Gray\n",
    "\n",
    "    # The following don't work well for people with defective color vision\n",
    "    '#007D34', # Vivid Green\n",
    "    '#F6768E', # Strong Purplish Pink\n",
    "    '#00538A', # Strong Blue\n",
    "    '#FF7A5C', # Strong Yellowish Pink\n",
    "    '#53377A', # Strong Violet\n",
    "    '#FF8E00', # Vivid Orange Yellow\n",
    "    '#B32851', # Strong Purplish Red\n",
    "    '#F4C800', # Vivid Greenish Yellow\n",
    "    '#7F180D', # Strong Reddish Brown\n",
    "    '#93AA00', # Vivid Yellowish Green\n",
    "    '#593315', # Deep Yellowish Brown\n",
    "    '#F13A13', # Vivid Reddish Orange\n",
    "    '#232C16', # Dark Olive Green\n",
    "    ]\n",
    "\n",
    "colors = kelly_colors_hex\n",
    "marker_list = ['8', '>', 'd', '<', '*', 'p', '^', 's', 'h', 'v', 'D', r'$\\clubsuit$']\n",
    "\n",
    "bordercolor = '#333333'\n",
    "borderwidth = 2\n",
    "figsize = (12,12)\n",
    "axis_font_size = 30\n",
    "label_font_size = 25\n",
    "legend_font_size = 25\n",
    "\n",
    "fig = plt.figure(figsize = (10, 10))\n",
    "ax1 = fig.add_subplot(111)\n",
    "\n",
    "ax1.errorbar(prob, tpr, yerr = err, fmt='o',\n",
    "             markersize = 15, markerfacecolor = 'royalblue',\n",
    "             markeredgewidth = 0, #borderwidth, # controls thickness of the error bar cap\n",
    "             markeredgecolor = 'royalblue',\n",
    "             ecolor = colors[2], elinewidth = borderwidth, capsize = 10)\n",
    "ax1.plot([0, 1], [0, 1], color = bordercolor, linestyle = 'dashed', linewidth = borderwidth)\n",
    "\n",
    "\n",
    "mxlabel = 'PIPs'\n",
    "mylabel = 'Proportion of true positives'\n",
    "\n",
    "ax1.set_xlabel(mxlabel, {'size': axis_font_size, 'color': bordercolor}, labelpad = 15)\n",
    "ax1.set_ylabel(mylabel, {'size': axis_font_size, 'color': bordercolor}, labelpad = 20)\n",
    "ax1.set_ylim(-0.05, 1.05)\n",
    "ax1.set_xlim(-0.05, 1.05)\n",
    "ax1.tick_params(axis='both', which = 'major',\n",
    "               length = 10, width = borderwidth, pad=10,\n",
    "               labelsize = label_font_size,\n",
    "               color = bordercolor,\n",
    "               labelcolor = bordercolor,\n",
    "               bottom = True, top = False, left = True, right = False\n",
    "              )\n",
    "for side, border in ax1.spines.items():\n",
    "    border.set_linewidth(borderwidth)\n",
    "    border.set_color(bordercolor)\n",
    "ax1.grid(color='dimgray', lw=0.5, alpha=0.8)\n",
    "#yticklabels = ax1.get_yticks().tolist()\n",
    "#ytl = [int(x / nsim) for x in yticklabels]\n",
    "#ax1.set_yticklabels(ytl)\n",
    "#ax1.set_xticks(np.arange(80, 220, 40))\n",
    "#ax1.set_yticks(np.arange(0,18,4))\n",
    "plt.savefig (calib_outfile, bbox_inches='tight')\n",
    "plt.show()"
   ]
  },
  {
   "cell_type": "code",
   "execution_count": null,
   "metadata": {
    "collapsed": true
   },
   "outputs": [],
   "source": []
  }
 ],
 "metadata": {
  "kernelspec": {
   "display_name": "Python 3",
   "language": "python",
   "name": "python3"
  },
  "language_info": {
   "codemirror_mode": {
    "name": "ipython",
    "version": 3
   },
   "file_extension": ".py",
   "mimetype": "text/x-python",
   "name": "python",
   "nbconvert_exporter": "python",
   "pygments_lexer": "ipython3",
   "version": "3.6.8"
  }
 },
 "nbformat": 4,
 "nbformat_minor": 2
}
